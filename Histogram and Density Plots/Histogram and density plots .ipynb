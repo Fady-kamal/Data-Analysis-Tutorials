{
 "cells": [
  {
   "cell_type": "markdown",
   "metadata": {},
   "source": [
    "In this notebook we are going to discuss what is histograms and density plots and their usage.\n",
    "\n",
    "\n",
    "\n",
    "\n",
    "# Outline\n",
    "- [Histogtram](#1)\n",
    "- [Density Plot](#2)"
   ]
  },
  {
   "cell_type": "code",
   "execution_count": 32,
   "metadata": {},
   "outputs": [],
   "source": [
    "import pandas as pd \n",
    "import matplotlib.pyplot as plt \n",
    "import seaborn as sns "
   ]
  },
  {
   "cell_type": "code",
   "execution_count": 3,
   "metadata": {},
   "outputs": [],
   "source": [
    "data = pd.read_csv(\"data.csv\")"
   ]
  },
  {
   "cell_type": "code",
   "execution_count": 7,
   "metadata": {},
   "outputs": [
    {
     "data": {
      "text/html": [
       "<div>\n",
       "<style scoped>\n",
       "    .dataframe tbody tr th:only-of-type {\n",
       "        vertical-align: middle;\n",
       "    }\n",
       "\n",
       "    .dataframe tbody tr th {\n",
       "        vertical-align: top;\n",
       "    }\n",
       "\n",
       "    .dataframe thead th {\n",
       "        text-align: right;\n",
       "    }\n",
       "</style>\n",
       "<table border=\"1\" class=\"dataframe\">\n",
       "  <thead>\n",
       "    <tr style=\"text-align: right;\">\n",
       "      <th></th>\n",
       "      <th>Responder_id</th>\n",
       "      <th>Age</th>\n",
       "    </tr>\n",
       "  </thead>\n",
       "  <tbody>\n",
       "    <tr>\n",
       "      <th>0</th>\n",
       "      <td>1</td>\n",
       "      <td>14</td>\n",
       "    </tr>\n",
       "    <tr>\n",
       "      <th>1</th>\n",
       "      <td>2</td>\n",
       "      <td>19</td>\n",
       "    </tr>\n",
       "    <tr>\n",
       "      <th>2</th>\n",
       "      <td>3</td>\n",
       "      <td>28</td>\n",
       "    </tr>\n",
       "    <tr>\n",
       "      <th>3</th>\n",
       "      <td>4</td>\n",
       "      <td>22</td>\n",
       "    </tr>\n",
       "    <tr>\n",
       "      <th>4</th>\n",
       "      <td>5</td>\n",
       "      <td>30</td>\n",
       "    </tr>\n",
       "    <tr>\n",
       "      <th>...</th>\n",
       "      <td>...</td>\n",
       "      <td>...</td>\n",
       "    </tr>\n",
       "    <tr>\n",
       "      <th>79205</th>\n",
       "      <td>87352</td>\n",
       "      <td>59</td>\n",
       "    </tr>\n",
       "    <tr>\n",
       "      <th>79206</th>\n",
       "      <td>87386</td>\n",
       "      <td>21</td>\n",
       "    </tr>\n",
       "    <tr>\n",
       "      <th>79207</th>\n",
       "      <td>87739</td>\n",
       "      <td>25</td>\n",
       "    </tr>\n",
       "    <tr>\n",
       "      <th>79208</th>\n",
       "      <td>88212</td>\n",
       "      <td>40</td>\n",
       "    </tr>\n",
       "    <tr>\n",
       "      <th>79209</th>\n",
       "      <td>88863</td>\n",
       "      <td>18</td>\n",
       "    </tr>\n",
       "  </tbody>\n",
       "</table>\n",
       "<p>79210 rows × 2 columns</p>\n",
       "</div>"
      ],
      "text/plain": [
       "       Responder_id  Age\n",
       "0                 1   14\n",
       "1                 2   19\n",
       "2                 3   28\n",
       "3                 4   22\n",
       "4                 5   30\n",
       "...             ...  ...\n",
       "79205         87352   59\n",
       "79206         87386   21\n",
       "79207         87739   25\n",
       "79208         88212   40\n",
       "79209         88863   18\n",
       "\n",
       "[79210 rows x 2 columns]"
      ]
     },
     "execution_count": 7,
     "metadata": {},
     "output_type": "execute_result"
    }
   ],
   "source": [
    "data"
   ]
  },
  {
   "cell_type": "markdown",
   "metadata": {},
   "source": [
    " ## Histogram <a anchor = \"anchor\" id = \"1\" />\n",
    " \n",
    " - Histogram is a graphical way to represent your data\n",
    " - It is like a bar plot but used for numerical data \n",
    " - it divided the continuouos data into classes called bins\n",
    " - Each pin has range of values\n",
    " - Each pin is plotted as bar plot whose value represents the number of data points inside that range "
   ]
  },
  {
   "cell_type": "code",
   "execution_count": 13,
   "metadata": {},
   "outputs": [],
   "source": [
    "ids = data[\"Responder_id\"]\n",
    "\n",
    "ages = data[\"Age\"]"
   ]
  },
  {
   "cell_type": "code",
   "execution_count": 14,
   "metadata": {},
   "outputs": [
    {
     "data": {
      "text/plain": [
       "0            1\n",
       "1            2\n",
       "2            3\n",
       "3            4\n",
       "4            5\n",
       "         ...  \n",
       "79205    87352\n",
       "79206    87386\n",
       "79207    87739\n",
       "79208    88212\n",
       "79209    88863\n",
       "Name: Responder_id, Length: 79210, dtype: int64"
      ]
     },
     "execution_count": 14,
     "metadata": {},
     "output_type": "execute_result"
    }
   ],
   "source": [
    "#get the ide of every person \n",
    "ids "
   ]
  },
  {
   "cell_type": "code",
   "execution_count": 16,
   "metadata": {},
   "outputs": [
    {
     "data": {
      "text/plain": [
       "0        14\n",
       "1        19\n",
       "2        28\n",
       "3        22\n",
       "4        30\n",
       "         ..\n",
       "79205    59\n",
       "79206    21\n",
       "79207    25\n",
       "79208    40\n",
       "79209    18\n",
       "Name: Age, Length: 79210, dtype: int64"
      ]
     },
     "execution_count": 16,
     "metadata": {},
     "output_type": "execute_result"
    }
   ],
   "source": [
    "#their age \n",
    "ages"
   ]
  },
  {
   "cell_type": "code",
   "execution_count": 25,
   "metadata": {},
   "outputs": [
    {
     "data": {
      "text/plain": [
       "(array([4.8520e+03, 3.8607e+04, 2.4713e+04, 7.5980e+03, 2.5320e+03,\n",
       "        6.8700e+02, 1.4100e+02, 1.5000e+01, 3.1000e+01]),\n",
       " array([ 10,  20,  30,  40,  50,  60,  70,  80,  90, 100]),\n",
       " <a list of 9 Patch objects>)"
      ]
     },
     "execution_count": 25,
     "metadata": {},
     "output_type": "execute_result"
    },
    {
     "data": {
      "image/png": "[encoded data removed]",
      "text/plain": [
       "<Figure size 432x288 with 1 Axes>"
      ]
     },
     "metadata": {
      "needs_background": "light"
     },
     "output_type": "display_data"
    }
   ],
   "source": [
    "\n",
    "bins = [10,20,30,40,50,60,70,80,90,100]\n",
    "plt.hist(ages, bins )"
   ]
  },
  {
   "cell_type": "code",
   "execution_count": 31,
   "metadata": {},
   "outputs": [
    {
     "data": {
      "text/plain": [
       "(array([4.8520e+03, 3.8607e+04, 2.4713e+04, 7.5980e+03, 2.5320e+03,\n",
       "        6.8700e+02, 1.4100e+02, 1.5000e+01, 3.1000e+01]),\n",
       " array([ 10,  20,  30,  40,  50,  60,  70,  80,  90, 100]),\n",
       " <a list of 9 Patch objects>)"
      ]
     },
     "execution_count": 31,
     "metadata": {},
     "output_type": "execute_result"
    },
    {
     "data": {
      "image/png": "[encoded data removed]",
      "text/plain": [
       "<Figure size 432x288 with 1 Axes>"
      ]
     },
     "metadata": {
      "needs_background": "light"
     },
     "output_type": "display_data"
    }
   ],
   "source": [
    "\n",
    "plt.hist(ages, bins )"
   ]
  },
  {
   "cell_type": "code",
   "execution_count": 45,
   "metadata": {},
   "outputs": [
    {
     "data": {
      "text/plain": [
       "<matplotlib.axes._subplots.AxesSubplot at 0x1e04bede5b0>"
      ]
     },
     "execution_count": 45,
     "metadata": {},
     "output_type": "execute_result"
    },
    {
     "data": {
      "image/png": "[encoded data removed]",
      "text/plain": [
       "<Figure size 432x288 with 1 Axes>"
      ]
     },
     "metadata": {
      "needs_background": "light"
     },
     "output_type": "display_data"
    }
   ],
   "source": [
    "#Another way to plot histogram si to use seaborn library \n",
    "sns.distplot(ages, bins, kde = False )"
   ]
  },
  {
   "cell_type": "markdown",
   "metadata": {},
   "source": [
    "### What does the Histogram Tell me ? \n",
    "\n",
    " > - it tells me that The age of most of the people that I have in the dataset is between 20 and 30\n",
    " > - We can determine the distribution of the dataset "
   ]
  },
  {
   "cell_type": "markdown",
   "metadata": {},
   "source": [
    "## Density Plot  <a anchor = \"anchor\" id = \" 2\" /> \n",
    "\n",
    "- Another way to represent the distribution of the data is to use `Density Plot `\n",
    "- it doesn't divide the data into bins \n",
    "- it show the distribution over the continouous range of the data \n",
    "- it estimates the distribution of the data using `Kernal Density Estimate` \n",
    "- The peak of the curve tells me location that collects most of the data points \n"
   ]
  },
  {
   "cell_type": "code",
   "execution_count": 49,
   "metadata": {},
   "outputs": [
    {
     "data": {
      "text/plain": [
       "<matplotlib.axes._subplots.AxesSubplot at 0x1e04d26a1f0>"
      ]
     },
     "execution_count": 49,
     "metadata": {},
     "output_type": "execute_result"
    },
    {
     "data": {
      "image/png": "[encoded data removed]",
      "text/plain": [
       "<Figure size 432x288 with 1 Axes>"
      ]
     },
     "metadata": {
      "needs_background": "light"
     },
     "output_type": "display_data"
    }
   ],
   "source": [
    "#plot the density plot \n",
    "\n",
    "sns.distplot(ages, hist = False )"
   ]
  },
  {
   "cell_type": "markdown",
   "metadata": {},
   "source": [
    "### What does the density plot Tell me ? \n",
    "\n",
    "> - We can see that most of the data points lie between 20 and 30\n",
    "> - The peak of the plot tells me where the data points concentrated "
   ]
  }
 ],
 "metadata": {
  "kernelspec": {
   "display_name": "Python 3",
   "language": "python",
   "name": "python3"
  },
  "language_info": {
   "codemirror_mode": {
    "name": "ipython",
    "version": 3
   },
   "file_extension": ".py",
   "mimetype": "text/x-python",
   "name": "python",
   "nbconvert_exporter": "python",
   "pygments_lexer": "ipython3",
   "version": "3.8.3"
  }
 },
 "nbformat": 4,
 "nbformat_minor": 4
}
