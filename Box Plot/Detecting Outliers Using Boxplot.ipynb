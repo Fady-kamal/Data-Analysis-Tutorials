{
 "cells": [
  {
   "cell_type": "markdown",
   "metadata": {},
   "source": [
    "In this notebook we are going to remove outilers using Boxplot \n",
    "\n",
    "\n",
    "\n",
    "\n",
    "# Outline \n",
    "\n",
    "- [Vocabulary](#1) \n",
    "- [What is Box Plot](#2)\n",
    "- [Detecting Outliers of the dataset using Boxplot](#3)\n",
    "\n",
    "## About the dataset \n",
    "\n",
    "* The dataset is about server computers and it contains unexpected behavior in server computers  \n",
    "* As a result of that,  we will implement an anomaly detection algorithm to detect the anomalous behavior in server computers \n",
    "\n",
    "## Attribute details of the dataset \n",
    "<table style = \"width:100%\">\n",
    "    <tr>\n",
    "      <th style=\"text-align:center\" >Name</th>\n",
    "      <th style=\"text-align:center\">Type</th> \n",
    "      <th style=\"text-align:center\">Description</th>\n",
    "      <th style=\"text-align:center\">Units</th>\n",
    "    </tr>\n",
    "    <tr>\n",
    "        <td style=\"text-align:center\">Latency(ms)</td>\n",
    "        <td style=\"text-align:center\">Float</td>\n",
    "        <td style=\"text-align:center\">Latency is the delay between a user's action and a web application's response to that action</td>\n",
    "        <td style=\"text-align:center\">Latency is usually measured in milliseconds or ms.</td>\n",
    "    </tr>\n",
    "    <tr>\n",
    "        <td style=\"text-align:center\">Throughput(mb/s)</td>\n",
    "        <td style=\"text-align:center\">Float</td>\n",
    "        <td style=\"text-align:center\">Throughput is the amount of data can be sent and recieved within a unit of time</td>\n",
    "        <td style=\"text-align:center\">Throughput is usually measured in megabit per second or mb/s and it is equivalent to 1,000,000 bits per second.</td>\n",
    "    </tr>\n",
    "</table>\n",
    "\n",
    "<br>"
   ]
  },
  {
   "cell_type": "code",
   "execution_count": 13,
   "metadata": {},
   "outputs": [],
   "source": [
    "import pandas as pd\n",
    "\n",
    "import matplotlib.pyplot as plt \n",
    "\n",
    "import numpy as np \n",
    "\n",
    "import seaborn as sns"
   ]
  },
  {
   "cell_type": "code",
   "execution_count": 7,
   "metadata": {},
   "outputs": [],
   "source": [
    "#label every column\n",
    "names = [\"Latency(ms)\",\"Throughput(mb/s)\"]\n",
    "\n",
    "\n",
    "#import the training datset\n",
    "data = pd.read_csv(\"tr_server_data.csv\",header = None , names = names)\n",
    " "
   ]
  },
  {
   "cell_type": "code",
   "execution_count": 8,
   "metadata": {},
   "outputs": [
    {
     "data": {
      "text/html": [
       "<div>\n",
       "<style scoped>\n",
       "    .dataframe tbody tr th:only-of-type {\n",
       "        vertical-align: middle;\n",
       "    }\n",
       "\n",
       "    .dataframe tbody tr th {\n",
       "        vertical-align: top;\n",
       "    }\n",
       "\n",
       "    .dataframe thead th {\n",
       "        text-align: right;\n",
       "    }\n",
       "</style>\n",
       "<table border=\"1\" class=\"dataframe\">\n",
       "  <thead>\n",
       "    <tr style=\"text-align: right;\">\n",
       "      <th></th>\n",
       "      <th>Latency(ms)</th>\n",
       "      <th>Throughput(mb/s)</th>\n",
       "    </tr>\n",
       "  </thead>\n",
       "  <tbody>\n",
       "    <tr>\n",
       "      <th>0</th>\n",
       "      <td>13.0470</td>\n",
       "      <td>14.741</td>\n",
       "    </tr>\n",
       "    <tr>\n",
       "      <th>1</th>\n",
       "      <td>13.4090</td>\n",
       "      <td>13.763</td>\n",
       "    </tr>\n",
       "    <tr>\n",
       "      <th>2</th>\n",
       "      <td>14.1960</td>\n",
       "      <td>15.853</td>\n",
       "    </tr>\n",
       "    <tr>\n",
       "      <th>3</th>\n",
       "      <td>14.9150</td>\n",
       "      <td>16.174</td>\n",
       "    </tr>\n",
       "    <tr>\n",
       "      <th>4</th>\n",
       "      <td>13.5770</td>\n",
       "      <td>14.043</td>\n",
       "    </tr>\n",
       "    <tr>\n",
       "      <th>...</th>\n",
       "      <td>...</td>\n",
       "      <td>...</td>\n",
       "    </tr>\n",
       "    <tr>\n",
       "      <th>302</th>\n",
       "      <td>12.4770</td>\n",
       "      <td>14.459</td>\n",
       "    </tr>\n",
       "    <tr>\n",
       "      <th>303</th>\n",
       "      <td>19.5830</td>\n",
       "      <td>10.412</td>\n",
       "    </tr>\n",
       "    <tr>\n",
       "      <th>304</th>\n",
       "      <td>23.3400</td>\n",
       "      <td>16.299</td>\n",
       "    </tr>\n",
       "    <tr>\n",
       "      <th>305</th>\n",
       "      <td>18.2610</td>\n",
       "      <td>17.978</td>\n",
       "    </tr>\n",
       "    <tr>\n",
       "      <th>306</th>\n",
       "      <td>4.7526</td>\n",
       "      <td>24.350</td>\n",
       "    </tr>\n",
       "  </tbody>\n",
       "</table>\n",
       "<p>307 rows × 2 columns</p>\n",
       "</div>"
      ],
      "text/plain": [
       "     Latency(ms)  Throughput(mb/s)\n",
       "0        13.0470            14.741\n",
       "1        13.4090            13.763\n",
       "2        14.1960            15.853\n",
       "3        14.9150            16.174\n",
       "4        13.5770            14.043\n",
       "..           ...               ...\n",
       "302      12.4770            14.459\n",
       "303      19.5830            10.412\n",
       "304      23.3400            16.299\n",
       "305      18.2610            17.978\n",
       "306       4.7526            24.350\n",
       "\n",
       "[307 rows x 2 columns]"
      ]
     },
     "execution_count": 8,
     "metadata": {},
     "output_type": "execute_result"
    }
   ],
   "source": [
    "data"
   ]
  },
  {
   "cell_type": "code",
   "execution_count": 12,
   "metadata": {},
   "outputs": [
    {
     "data": {
      "text/plain": [
       "Text(0.5, 1.0, 'The Relationship between Latency and Throughput')"
      ]
     },
     "execution_count": 12,
     "metadata": {},
     "output_type": "execute_result"
    },
    {
     "data": {
      "image/png": "[encoded data removed]",
      "text/plain": [
       "<Figure size 432x288 with 1 Axes>"
      ]
     },
     "metadata": {
      "needs_background": "light"
     },
     "output_type": "display_data"
    }
   ],
   "source": [
    "#Throughput and latency have a direct relationship, so lets plot the relationship between them\n",
    "plt.scatter(data[\"Latency(ms)\"].values,data[\"Throughput(mb/s)\"].values, color = \"b\" )\n",
    "plt.xlabel(\"Latency(ms)\" , fontsize = 16)\n",
    "plt.ylabel(\"Throughput(mb/s)\", fontsize = 16)\n",
    "plt.title(\"The Relationship between Latency and Throughput\")"
   ]
  },
  {
   "cell_type": "markdown",
   "metadata": {},
   "source": [
    " > - We can see that there are some value that are away from the normal values \n",
    " > - Our job to remove those examples "
   ]
  },
  {
   "cell_type": "markdown",
   "metadata": {},
   "source": [
    "\n",
    "\n",
    "## Vocabulary <a anchor = \"anchor\" id = \"1\" />\n",
    "\n",
    "\n",
    "before explaining what is box plot we should know some vocabulary helps us to understand it\n",
    "\n",
    "- __Mode:__ The value that appear most frequently in the dataset\n",
    "- __Median:__ The middle value for the ordered set arranged in asending order \n",
    "- __Range__: The difference between the highest and the lowest number \n",
    "- __Mean__: The average of values in the dataset \n",
    "\n",
    "- __Quartiles__: \n",
    "\n",
    " - The median divides a set of data into two parts with an equal number of scores \n",
    " - Similarly, a set of data can be divided into four equal parts with an equal number of scores \n",
    " - The values that divides the dataset into four equal parts called `Quartiles`\n",
    " - Each set of data has three quartiles: \n",
    "   * The lower denotes as $Q_1$ \n",
    "   * The middle(called the median) denoted as $Q_2$\n",
    "   * The upper denoted as $Q_3$\n",
    " \n",
    " - An image the decribes the quartiles \n",
    " \n",
    "<img  src = \"https://i.imgur.com/vlwuaIS.jpg\" />\n",
    "\n",
    "\n",
    "  - We can see that: \n",
    "    - $25\\%$ of the scores $< Q_1$ and $75\\%$ of the scores$ > Q_1$\n",
    "    - $50\\%$ of the scores $< Q_2$ and $50\\%$ of the scorse $> Q_2$\n",
    "    - $75\\%$ of the scores $< Q_3$ and $25\\%$ of the socres $>Q_3$\n",
    "\n",
    "\n",
    "\n",
    "- __Interquartile Range(IQR):__ The IQR describes the middle 50% of values when ordered from lowest to highest\n",
    " - Both IQR and Range gives us a measure of how data varies \n",
    " - IQR is a better measure of spread than the range as it is not affected by outliers\n",
    "\n",
    "## What is Box Plot ? <a anchor = \"anchor\" id = \"2\"  width=\"50\" height=\"60\">\n",
    "\n",
    "- A pictorial way for representing five statistical terms:\n",
    "    - Minmum  \n",
    "    - Maximum\n",
    "    - Quartiles \n",
    "  \n",
    "- An image describes the boxplot\n",
    "   \n",
    "\n",
    " <img src =\"https://i.imgur.com/j6lz6rn.png\"  />\n",
    "    \n"
   ]
  },
  {
   "cell_type": "code",
   "execution_count": 26,
   "metadata": {},
   "outputs": [
    {
     "data": {
      "text/plain": [
       "<matplotlib.axes._subplots.AxesSubplot at 0x1d3b0fceb20>"
      ]
     },
     "execution_count": 26,
     "metadata": {},
     "output_type": "execute_result"
    },
    {
     "data": {
      "image/png": "[encoded data removed]",
      "text/plain": [
       "<Figure size 432x288 with 1 Axes>"
      ]
     },
     "metadata": {
      "needs_background": "light"
     },
     "output_type": "display_data"
    }
   ],
   "source": [
    "#plot 1D boxplot \n",
    "\n",
    "sns.boxplot(data[\"Throughput(mb/s)\"])"
   ]
  },
  {
   "cell_type": "markdown",
   "metadata": {},
   "source": [
    "## Detecting Outliers of the dataset using Boxplot <a anchor = \"anchor\"  id = \"3\" />"
   ]
  },
  {
   "cell_type": "code",
   "execution_count": 37,
   "metadata": {},
   "outputs": [],
   "source": [
    "#compute the interquartile range \n",
    "\n",
    "q1, q2,q3 = np.percentile(data[\"Throughput(mb/s)\"].values,[25,50,75])"
   ]
  },
  {
   "cell_type": "code",
   "execution_count": 55,
   "metadata": {},
   "outputs": [
    {
     "data": {
      "text/plain": [
       "(14.362000000000002, 15.023, 15.654499999999999)"
      ]
     },
     "execution_count": 55,
     "metadata": {},
     "output_type": "execute_result"
    }
   ],
   "source": [
    "q1, q2, q3"
   ]
  },
  {
   "cell_type": "code",
   "execution_count": 52,
   "metadata": {},
   "outputs": [
    {
     "data": {
      "text/plain": [
       "1.2924999999999969"
      ]
     },
     "execution_count": 52,
     "metadata": {},
     "output_type": "execute_result"
    }
   ],
   "source": [
    "#compute IQR \n",
    "\n",
    "iqr = q3 - q1\n",
    "dsf\n",
    "iqr"
   ]
  },
  {
   "cell_type": "code",
   "execution_count": 53,
   "metadata": {},
   "outputs": [],
   "source": [
    "#calculate the min and max limits to be considered outliers \n",
    "\n",
    "min_limit = q1 - 1.5 * (iqr)\n",
    "\n",
    "max_limit = q3 + 1.5*(iqr)"
   ]
  },
  {
   "cell_type": "code",
   "execution_count": 54,
   "metadata": {},
   "outputs": [
    {
     "data": {
      "text/plain": [
       "(12.423250000000007, 17.593249999999994)"
      ]
     },
     "execution_count": 54,
     "metadata": {},
     "output_type": "execute_result"
    }
   ],
   "source": [
    "min_limit,  max_limit"
   ]
  },
  {
   "cell_type": "code",
   "execution_count": 63,
   "metadata": {},
   "outputs": [
    {
     "data": {
      "text/plain": [
       "array([ 4.1262,  9.3479, 10.412 , 12.203 , 17.834 , 17.978 , 24.35  ])"
      ]
     },
     "execution_count": 63,
     "metadata": {},
     "output_type": "execute_result"
    }
   ],
   "source": [
    "#identifying the points\n",
    "\n",
    "np.sort([x for x in data[\"Throughput(mb/s)\"] if(x > max_limit or  x < min_limit)])"
   ]
  },
  {
   "cell_type": "markdown",
   "metadata": {},
   "source": [
    "## Congratulations "
   ]
  }
 ],
 "metadata": {
  "kernelspec": {
   "display_name": "Python 3",
   "language": "python",
   "name": "python3"
  },
  "language_info": {
   "codemirror_mode": {
    "name": "ipython",
    "version": 3
   },
   "file_extension": ".py",
   "mimetype": "text/x-python",
   "name": "python",
   "nbconvert_exporter": "python",
   "pygments_lexer": "ipython3",
   "version": "3.8.3"
  }
 },
 "nbformat": 4,
 "nbformat_minor": 4
}
